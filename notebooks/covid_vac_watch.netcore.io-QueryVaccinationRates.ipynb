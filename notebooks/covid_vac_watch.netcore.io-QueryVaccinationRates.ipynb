{
    "cells": [
        {
            "cell_type": "code",
            "execution_count": 0,
            "metadata": {
                
            },
            "outputs": [
                
            ],
            "source": [
                "#r \"nuget:ServiceStack.Client\"\n",
                "#r \"nuget:ServiceStack.Common\"\n",
                "\n",
                "\n",
                "\n",
                "using System;\n",
                "using System.Collections;\n",
                "using System.Collections.Generic;\n",
                "using System.Runtime.Serialization;\n",
                "using ServiceStack;\n",
                "using ServiceStack.DataAnnotations;\n",
                "\n",
                "\n",
                "[Route(\"/vaccination_rates\")]\n",
                "public partial class QueryVaccinationRates\n",
                "    : QueryDb<VaccinationData>, IReturn<QueryResponse<VaccinationData>>\n",
                "{\n",
                "    public virtual string Location { get; set; }\n",
                "    public virtual DateTime? Date { get; set; }\n",
                "    public virtual DateTime? DateGreaterThan { get; set; }\n",
                "    public virtual DateTime? DateLessThan { get; set; }\n",
                "}\n",
                "\n",
                "public partial class VaccinationData\n",
                "{\n",
                "    public virtual int Id { get; set; }\n",
                "    public virtual DateTime Date { get; set; }\n",
                "    public virtual string Location { get; set; }\n",
                "    public virtual decimal? TotalVaccinations { get; set; }\n",
                "    public virtual decimal? TotalDistributed { get; set; }\n",
                "    public virtual decimal? PeopleVaccinated { get; set; }\n",
                "    public virtual decimal? PeopleFullyVaccinatedPerHundred { get; set; }\n",
                "    public virtual decimal? TotalVaccinationsPerHundred { get; set; }\n",
                "    public virtual decimal? PeopleFullyVaccinated { get; set; }\n",
                "    public virtual decimal? PeopleVaccinatedPerHundred { get; set; }\n",
                "    public virtual decimal? DistributedPerHundred { get; set; }\n",
                "    public virtual decimal? DailyVaccinationsRaw { get; set; }\n",
                "    public virtual decimal? DailyVaccinations { get; set; }\n",
                "    public virtual decimal? DailyVaccinationsPerMillion { get; set; }\n",
                "    public virtual decimal? ShareDosesUsed { get; set; }\n",
                "}\n",
                "\n",
                "\n",
                "\n",
                "var client = new JsonServiceClient(\"https://covid-vac-watch.netcore.io\");\n"
            ]
        },
        {
            "cell_type": "code",
            "execution_count": 0,
            "metadata": {
                
            },
            "outputs": [
                
            ],
            "source": [
                "var response = client.Send(new QueryVaccinationRates {});\n"
            ]
        },
        {
            "cell_type": "code",
            "execution_count": 0,
            "metadata": {
                
            },
            "outputs": [
                
            ],
            "source": [
                "display(HTML(Inspect.htmlDump(response)));\n"
            ]
        },
        {
            "cell_type": "code",
            "execution_count": 0,
            "metadata": {
                
            },
            "outputs": [
                
            ],
            "source": [
                "Inspect.printDumpTable(response.Results,\n",
                "    headers:new[]{\"Id\",\"Date\",\"Location\",\"TotalVaccinations\",\"TotalDistributed\",\"PeopleVaccinated\",\"PeopleFullyVaccinatedPerHundred\",\"TotalVaccinationsPerHundred\",\"PeopleFullyVaccinated\",\"PeopleVaccinatedPerHundred\",\"DistributedPerHundred\",\"DailyVaccinationsRaw\",\"DailyVaccinations\",\"DailyVaccinationsPerMillion\",\"ShareDosesUsed\"})\n"
            ]
        }
    ],
    "metadata": {
        "kernelspec": {
            "display_name": ".NET (C#)",
            "name": ".net-csharp"
        },
        "language_info": {
            "name": "C#"
        },
        "orig_nbformat": 4
    },
    "nbformat": 4,
    "nbformat_minor": 2
}